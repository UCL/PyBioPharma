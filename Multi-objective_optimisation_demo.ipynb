{
 "cells": [
  {
   "cell_type": "markdown",
   "metadata": {},
   "source": [
    "# Multi-objective optimisation demonstration\n",
    "\n",
    "This notebook demonstrates how to use the BioPharma Python software to *optimise* models of biopharmaceutical facilities against *multiple objectives*.\n",
    "\n",
    "To run everything, select 'Run All' from the Cell menu. If you have made changes to the model equations in the biopharma package, select 'Restart & Run All' from the Kernel menu to ensure your changes are loaded."
   ]
  },
  {
   "cell_type": "markdown",
   "metadata": {},
   "source": [
    "First we load the biopharma software and set up the facility we want to optimise. See the [introductory demo notebook](User_demo.ipynb) for more explanation about this section. As in that example, we load default parameters from the [data](./data) folder by specifying it as the `data_path` argument to `Facility`."
   ]
  },
  {
   "cell_type": "code",
   "execution_count": null,
   "metadata": {},
   "outputs": [],
   "source": [
    "import biopharma as bp\n",
    "\n",
    "facility = bp.Facility(data_path='data')\n",
    "\n",
    "# Define the steps needed to create our single product\n",
    "from biopharma.process_steps import (\n",
    "    \n",
    ")\n",
    "steps = [\n",
    "    \n",
    "]\n",
    "step_names = [step.name for step in steps]\n",
    "product = bp.Product(facility, steps)"
   ]
  },
  {
   "cell_type": "markdown",
   "metadata": {},
   "source": [
    "## Defining what to optimise\n",
    "\n",
    "The next step is to create the Optimiser, and tell it both what facility parameters we want to vary (and how), and what objective(s) to optimise.\n",
    "\n",
    "Note that the order in which variables are added matters: choices made for earlier variables can constrain the options available for later ones, but not vice versa. This could make a difference, depending on the model.\n",
    "\n",
    "Key parameters for the optimisation routine are loaded from file in the same way as default facility parameters. Unless a different filename is given when the Optimiser is created, the [Optimiser.yaml](data/Optimiser.yaml) file is used.\n",
    "\n",
    "Note that in contrast to the single-objective optimisation demo, here we define 2 objectives."
   ]
  },
  {
   "cell_type": "code",
   "execution_count": null,
   "metadata": {},
   "outputs": [],
   "source": [
    "from biopharma import optimisation as opt\n",
    "\n",
    "optimiser = opt.Optimiser(facility)\n",
    "\n",
    "# Specify the variables to optimise.\n",
    "optimiser.add_variable(gen=opt.gen.Binary(), component=opt.sel.step('test_step'), item='binary_param',\n",
    "                       track=opt.Tracking.discrete)\n",
    "optimiser.add_variable(gen=opt.gen.RangeGenerator(0, 10),\n",
    "                       component=opt.sel.step('test_step'), item='int_param', track=opt.Tracking.numerical)\n",
    "\n",
    "# Specify the objective(s)\n",
    "optimiser.add_objective(component=opt.sel.product(0), item='cogs', minimise=True)\n",
    "optimiser.add_objective(component=opt.sel.product(0), item='other_output', maximise=True)"
   ]
  },
  {
   "cell_type": "markdown",
   "metadata": {},
   "source": [
    "Now we can run the optimisation. Outputs will be stored in the optimiser's outputs dictionary.\n",
    "\n",
    "The commented-out lines (starting with a '# ') show how to override parameters defined in the [Optimiser.yaml](data/Optimiser.yaml) file."
   ]
  },
  {
   "cell_type": "code",
   "execution_count": null,
   "metadata": {},
   "outputs": [],
   "source": [
    "# optimiser.parameters['populationSize'] = 10\n",
    "# optimiser.parameters['maxGenerations'] = 10\n",
    "optimiser.run()"
   ]
  },
  {
   "cell_type": "markdown",
   "metadata": {},
   "source": [
    "Note that the 'best' individuals from a multi-objective optimisation are simply those with the 'best' fitness separately in each objective. They thus give a limited perspective on the fitness space. More information can be gained from plotting the full population, shown further below."
   ]
  },
  {
   "cell_type": "code",
   "execution_count": null,
   "metadata": {},
   "outputs": [],
   "source": [
    "print('Best individual(s) with fitness(es):')\n",
    "for ind in optimiser.outputs['bestIndividuals']:\n",
    "    print('{}: {}'.format(ind.fitness.values, ind))\n",
    "print('Fitnesses ({}) of final population:'.format(\n",
    "    ', '.join(map(str, [obj['item'] for obj in optimiser.objectives]))))\n",
    "for ind in optimiser.outputs['finalPopulation']:\n",
    "    print('   ', ind.fitness.values)"
   ]
  },
  {
   "cell_type": "markdown",
   "metadata": {},
   "source": [
    "## Reporting on the results"
   ]
  },
  {
   "cell_type": "code",
   "execution_count": null,
   "metadata": {},
   "outputs": [],
   "source": [
    "# Importing the libraries we need\n",
    "import pandas as pd\n",
    "import matplotlib.pyplot as plt\n",
    "%matplotlib notebook"
   ]
  },
  {
   "cell_type": "markdown",
   "metadata": {},
   "source": [
    "If multi-objective optimisation has been performed, we can plot where in fitness space the final population lies, and in particular the separate Pareto fronts showing which individuals are dominated by others. The rank 1 Pareto front gives the typical interpretation of optimal individuals.\n",
    "\n",
    "First we determine which Pareto front each individual falls within (TODO: do this within the code instead)."
   ]
  },
  {
   "cell_type": "code",
   "execution_count": null,
   "metadata": {},
   "outputs": [],
   "source": [
    "from deap.tools import sortNondominated\n",
    "all_fronts = sortNondominated(optimiser.outputs['finalPopulation'], optimiser.parameters['populationSize'])\n",
    "print('Pareto front sizes:', list(map(len, all_fronts)))\n",
    "for rank, members in enumerate(all_fronts):\n",
    "    for ind in members:\n",
    "        ind.pareto_rank = rank + 1"
   ]
  },
  {
   "cell_type": "markdown",
   "metadata": {},
   "source": [
    "Now we can plot (at least with 2 objectives) all the Pareto fronts, showing where they sit within fitness space. The size of the circles indicates how many individuals have that fitness, and the colour indicates which Pareto front they are within (with rank 1 being the best)."
   ]
  },
  {
   "cell_type": "code",
   "execution_count": null,
   "metadata": {},
   "outputs": [],
   "source": [
    "if len(optimiser.objectives) == 2:\n",
    "    fig, ax = plt.subplots()\n",
    "    \n",
    "    pop = optimiser.outputs['finalPopulation']\n",
    "    from collections import defaultdict\n",
    "    map_fit_ind = defaultdict(list)\n",
    "    for ind in pop:\n",
    "        map_fit_ind[ind.fitness].append(ind)\n",
    "    fitnesses = list(map_fit_ind.keys())\n",
    "    \n",
    "    for rank in sorted({ind.pareto_rank for ind in pop}):\n",
    "        fits = [fit for fit in fitnesses if map_fit_ind[fit][0].pareto_rank == rank]\n",
    "        front = [map_fit_ind[fit][0] for fit in fits]\n",
    "        sizes = [2 * len(map_fit_ind[fit]) for fit in fits]\n",
    "        xs = [ind.fitness.values[0] for ind in front]\n",
    "        ys = [ind.fitness.values[1] for ind in front]\n",
    "        ax.scatter(xs, ys, s=sizes, alpha=0.5, label='Rank {}'.format(rank))\n",
    "    ax.set_title('Pareto Fronts')\n",
    "    ax.set_xlabel(optimiser.objectives[0]['item'])\n",
    "    ax.set_ylabel(optimiser.objectives[1]['item'])\n",
    "    ax.legend(loc='best')\n",
    "    ax.grid(True)\n",
    "    plt.show()"
   ]
  },
  {
   "cell_type": "markdown",
   "metadata": {},
   "source": [
    "We can also pick a single 'best' individual from the set and show properties thereof as before."
   ]
  },
  {
   "cell_type": "code",
   "execution_count": null,
   "metadata": {},
   "outputs": [],
   "source": [
    "best = optimiser.outputs['bestIndividuals'][0]\n",
    "labels = {'param1': {False: 'P1 not set', True: 'P1 set'},\n",
    "          'param2': {False: 'Here be dragons', True: 'All normal'}}\n",
    "column_info = pd.DataFrame(\n",
    "    {name: [labels[item][best.get_variable(name, item).value]\n",
    "            for item in ['param1', 'param2']]\n",
    "     for name in step_names},\n",
    "    index=['Param 1', 'Param 2'])\n",
    "column_info"
   ]
  },
  {
   "cell_type": "markdown",
   "metadata": {},
   "source": [
    "Next we display a graph showing some non-categorical parameters."
   ]
  },
  {
   "cell_type": "code",
   "execution_count": null,
   "metadata": {
    "scrolled": true
   },
   "outputs": [],
   "source": [
    "best = optimiser.outputs['bestIndividuals'][0]\n",
    "\n",
    "fig, ax = plt.subplots()\n",
    "for name in step_names:\n",
    "    x = best.get_variable(name, 'p1').value\n",
    "    y = best.get_variable(name, 'p2').value\n",
    "    ax.scatter(x.magnitude, y.magnitude, s=40, label=name)\n",
    "ax.set_title('Two parameters')\n",
    "ax.set_xlabel('P1 ({})'.format(x.units))\n",
    "ax.set_ylabel('P2 ({})'.format(y.units))\n",
    "ax.legend()\n",
    "ax.grid(True)\n",
    "plt.show()"
   ]
  },
  {
   "cell_type": "markdown",
   "metadata": {},
   "source": [
    "Finally we show the cost breakdown into different categories for the 'best' solution."
   ]
  },
  {
   "cell_type": "code",
   "execution_count": null,
   "metadata": {},
   "outputs": [],
   "source": [
    "best = optimiser.outputs['bestIndividuals'][0]\n",
    "\n",
    "# At present we need to re-run the model with the best individual to get at specific outputs\n",
    "best.apply_to_facility()\n",
    "facility.run()\n",
    "\n",
    "# Cost breakdown data\n",
    "y_units = bp.units.GBP / bp.units.g\n",
    "grams_produced = product.outputs['total_output'].to('g')\n",
    "labour_costs = product.outputs['labourCost'] / grams_produced / y_units\n",
    "consumables_costs = product.outputs['consumablesCost'] / grams_produced / y_units\n",
    "\n",
    "# Create plot\n",
    "fig, ax = plt.subplots()\n",
    "\n",
    "p_labour = ax.bar(0, labour_costs)\n",
    "p_consumables = ax.bar(0, consumables_costs, bottom=labour_costs)\n",
    "\n",
    "ax.set_title('Cost Breakdown')\n",
    "ax.set_ylabel('Cost of goods ({})'.format(y_units))\n",
    "ax.set_xticks([])\n",
    "ax.set_xbound(-2, 2)\n",
    "ax.legend((p_labour[0], p_consumables[0]),\n",
    "           ('Labour', 'Consumables'))\n",
    "plt.subplots_adjust(bottom=0.25)\n",
    "plt.show()"
   ]
  }
 ],
 "metadata": {
  "kernelspec": {
   "display_name": "Python 3",
   "language": "python",
   "name": "python3"
  },
  "language_info": {
   "codemirror_mode": {
    "name": "ipython",
    "version": 3
   },
   "file_extension": ".py",
   "mimetype": "text/x-python",
   "name": "python",
   "nbconvert_exporter": "python",
   "pygments_lexer": "ipython3",
   "version": "3.5.0"
  }
 },
 "nbformat": 4,
 "nbformat_minor": 2
}
