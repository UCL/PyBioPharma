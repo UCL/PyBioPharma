{
 "cells": [
  {
   "cell_type": "markdown",
   "metadata": {},
   "source": [
    "# Demonstration using a single process step\n",
    "\n",
    "As well as running full facility models, the PyBioPharma framework also allows researchers to run and analyse models of just portions of the facility. This example demonstrates how to work with a single process step, which is useful for modellers trying to understand one portion of a full process in detail."
   ]
  },
  {
   "cell_type": "markdown",
   "metadata": {},
   "source": [
    "First we load the parts of the framework that we will need."
   ]
  },
  {
   "cell_type": "code",
   "execution_count": null,
   "metadata": {},
   "outputs": [],
   "source": [
    "import biopharma as bp\n",
    "from biopharma.process_steps import test_step"
   ]
  },
  {
   "cell_type": "markdown",
   "metadata": {},
   "source": [
    "We then need to set up a minimal `Facility` and `Product`, for use where the process step accesses parameters or properties of these directly. As before, we are reading parameters from files in the [data](./data) folder.\n",
    "\n",
    "In contrast to the main demo, we therefore do not associate a list of steps with the `Product` instance."
   ]
  },
  {
   "cell_type": "code",
   "execution_count": null,
   "metadata": {},
   "outputs": [],
   "source": [
    "facility = bp.Facility(data_path='data')\n",
    "product = bp.Product(facility)\n",
    "\n",
    "# Load parameters for the facility and product\n",
    "facility.load_parameters()"
   ]
  },
  {
   "cell_type": "markdown",
   "metadata": {},
   "source": [
    "Now we can set up the process step that we are interested in. For this example we are looking at ... step. Note that when we create the step we tell it which facility and product to use."
   ]
  },
  {
   "cell_type": "code",
   "execution_count": null,
   "metadata": {},
   "outputs": [],
   "source": [
    "step = test_step.TestStep(\n",
    "    facility,\n",
    "    product=product,\n",
    "    name='test_step',\n",
    "    param_filename='test_step.yaml')\n",
    "\n",
    "# Load parameters just for this step\n",
    "step.load_parameters()"
   ]
  },
  {
   "cell_type": "markdown",
   "metadata": {},
   "source": [
    "The next step is to set the inputs for this step. In a full model this would be done for us by the `ProcessSequence` and `Product` classes. But we can also either load all inputs from file (as is done in the first cell, which loads [data/test_step.yaml](data/test_step.yaml)) or set specific inputs directly from code (as is done in the second cell) or both."
   ]
  },
  {
   "cell_type": "code",
   "execution_count": null,
   "metadata": {},
   "outputs": [],
   "source": [
    "step.load_inputs('test_step')"
   ]
  },
  {
   "cell_type": "code",
   "execution_count": null,
   "metadata": {},
   "outputs": [],
   "source": [
    "step.inputs['volume'] = 123.45 * bp.units.litres"
   ]
  },
  {
   "cell_type": "markdown",
   "metadata": {},
   "source": [
    "We are now in a position to run the step and examine the outputs."
   ]
  },
  {
   "cell_type": "code",
   "execution_count": null,
   "metadata": {},
   "outputs": [],
   "source": [
    "step.run()\n",
    "\n",
    "print('Step outputs:')\n",
    "for output_name in sorted(step.outputs.keys()):\n",
    "    value = step.outputs[output_name]\n",
    "    print('  Output {} = {}'.format(output_name, value))"
   ]
  },
  {
   "cell_type": "markdown",
   "metadata": {},
   "source": [
    "We can also look at the specific contribution of this step to each quantity passed through the pipeline, by seeing how they have changed between input and output. Note that we iterate over _input_ names this time, since the step may add extra outputs."
   ]
  },
  {
   "cell_type": "code",
   "execution_count": null,
   "metadata": {},
   "outputs": [],
   "source": [
    "print('Step contributions to process:')\n",
    "for item_name in sorted(step.inputs.keys()):\n",
    "    change = step.outputs[item_name] - step.inputs[item_name]\n",
    "    print('  {}: {}'.format(item_name, change))"
   ]
  }
 ],
 "metadata": {
  "kernelspec": {
   "display_name": "Python 3",
   "language": "python",
   "name": "python3"
  },
  "language_info": {
   "codemirror_mode": {
    "name": "ipython",
    "version": 3
   },
   "file_extension": ".py",
   "mimetype": "text/x-python",
   "name": "python",
   "nbconvert_exporter": "python",
   "pygments_lexer": "ipython3",
   "version": "3.5.0"
  }
 },
 "nbformat": 4,
 "nbformat_minor": 2
}
