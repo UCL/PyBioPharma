{
 "cells": [
  {
   "cell_type": "markdown",
   "metadata": {},
   "source": [
    "# Incorporating sensitivy analysis into optimisation\n",
    "\n",
    "The introductory notebooks show how to perform [optimisation](Optimisation_demo.ipynb) and [sensitivity analysis](Sensitivity_analysis_demo.ipynb) in the PyBiopharma framework. In more advanced cases, you may want to incorporate the results of a sensitivity analysis into the optimisation itself, for example to find configurations which minimise variance in an aspect of interest, while potentially also optimising another aspect.\n",
    "\n",
    "This notebook demonstrates how to combine the two analysis procedures. It assumes that you have already gone through the previous examples and are familiar with how to create and use the components involved."
   ]
  },
  {
   "cell_type": "markdown",
   "metadata": {},
   "source": [
    "The workflow is similar to the simple cases: first we define a facility on which to perform the operations."
   ]
  },
  {
   "cell_type": "code",
   "execution_count": null,
   "metadata": {},
   "outputs": [],
   "source": [
    "import biopharma as bp\n",
    "\n",
    "facility = bp.Facility(data_path='data')\n",
    "\n",
    "# Define the steps needed to create our single product\n",
    "from biopharma.process_steps import (\n",
    "    \n",
    ")\n",
    "steps = [\n",
    "    \n",
    "]\n",
    "product = bp.Product(facility, steps)\n",
    "facility.load_parameters()"
   ]
  },
  {
   "cell_type": "markdown",
   "metadata": {},
   "source": [
    "The next step is to define the sensitivity analysis, which will serve as the basis for evaluating candidate configurations during the optimisation. In other words, for each individual in the population, we will take many samples with varying parameters, and record the results (as in a standard sensitivity analysis). The statistics of these runs will then be used for computing the individual's fitness in the optimisation step.\n",
    "\n",
    "The definition of the sensitivity analyser is the same as in the [simple demo](Sensitivity_analysis_demo.ipynb). For simplicity, we only choose two output variables to record, and only vary one aspect."
   ]
  },
  {
   "cell_type": "code",
   "execution_count": null,
   "metadata": {},
   "outputs": [],
   "source": [
    "from biopharma import optimisation as opt\n",
    "\n",
    "analyser = opt.SensitivityAnalyser(facility)\n",
    "\n",
    "# Specify the variables whose sensitivity we are interested in, and name them for future reference\n",
    "analyser.add_output(\"CoG\", component=opt.sel.product(0), item=\"cogs\")\n",
    "analyser.add_output(\"step_int_param\", component=opt.sel.step('test_step'), item=\"int_param\")\n",
    "\n",
    "# Specify which aspects to vary\n",
    "param1_mean = facility.products[0].parameters[\"param1\"]\n",
    "param1_width = 2 * param1_mean.units\n",
    "analyser.add_variable(gen=opt.dist.Uniform(param1_mean - param1_width, param1_mean + param1_width),\n",
    "                      component=opt.sel.product(), item=\"param\")"
   ]
  },
  {
   "cell_type": "markdown",
   "metadata": {},
   "source": [
    "Following this, we can create the optimiser. In contrast to the usual case, we will use the sensitivity analyser as the base component instead of directly giving the facility. This will allow us to use the outputs of the sensitivity analysis in the optimisation."
   ]
  },
  {
   "cell_type": "code",
   "execution_count": null,
   "metadata": {},
   "outputs": [],
   "source": [
    "optimiser = opt.Optimiser(analyser)\n",
    "\n",
    "# Specify the variables to optimise\n",
    "optimiser.add_variable(gen=opt.gen.Binary(), component=opt.sel.step('test_step'), item='binary_param')\n",
    "optimiser.add_variable(gen=opt.gen.RangeGenerator(0, 10),\n",
    "                       component=opt.sel.step('test_step'), item='range_param')"
   ]
  },
  {
   "cell_type": "markdown",
   "metadata": {},
   "source": [
    "Specifying the optimisation objectives requires a little more care than in the simple case. Now that sensitivity analysis is performed, we no longer have a single value for the aspects we want to optimise; instead, we have a whole set of statistics about them (gathered from all the runs performed). This gives us access to more information, but also means that we cannot refer to the value of a variable of interest directly.\n",
    "\n",
    "For example, let us assume that we are interested in minimising the cost of goods. To evaluate the fitness of a single set of variables, we instantiate multiple facilities, each parameterised differently. Therefore, we have no way of referring to a single facility, nor to the value of the cost for that particular instance. If we so wish, we can refer to its *average*, which will give an estimate of the cost across the different runs. For this reason, our optimisation objectives must be looked up on the sensitivity analyser rather than the facility.\n",
    "\n",
    "Note the different way of describing this, compared to the optimisation-only case. Instead of using a selector function for the product, we now use the `opt.sel.self` function (which will select the sensitivity analyser). We also use a \"compound\" item specification, containing the name of the variable (`\"CoG\"`) and the statistical measure we want (the choices are `\"avg\"`, `\"var\"`, `\"min\"` and `\"max\"`, as described in the [sensitivity analysis demo](Sensitivity_analysis_demo.ipynb)).\n",
    "\n",
    "Note also that the variable of interest must have been defined as an output to the sensitivity analyser! Indeed, we must use the same name to refer to it (`CoG`, in this case)."
   ]
  },
  {
   "cell_type": "markdown",
   "metadata": {},
   "source": [
    "**TODO**: Should maybe stress that we must have `collections=\"outputs\"`, as the statistics are stored in `analyser.outputs`, but this is the default value for `collection` in `add_objective` so I've omitted it"
   ]
  },
  {
   "cell_type": "code",
   "execution_count": null,
   "metadata": {},
   "outputs": [],
   "source": [
    "optimiser.add_objective(component=opt.sel.self(), item=(\"CoG\", \"avg\"), minimise=True)"
   ]
  },
  {
   "cell_type": "markdown",
   "metadata": {},
   "source": [
    "This approach is equally applicable, whether we have a single or [multiple objectives](Multi-objective_optimisation_demo.ipynb). In the same way as above, we can specify that we want to minimise the the variance in the `step_int_param`."
   ]
  },
  {
   "cell_type": "code",
   "execution_count": null,
   "metadata": {},
   "outputs": [],
   "source": [
    "optimiser.add_objective(component=opt.sel.self(), collection=\"outputs\", item=(\"step_int_param\", \"var\"), minimise=True)"
   ]
  },
  {
   "cell_type": "markdown",
   "metadata": {},
   "source": [
    "We are now ready to run the optimisation. Since each fitness evaluation will involve running the facility multiple times, the optimisation run will take significantly longer than without the sensitivity analysis. For this reason, and to limit the execution time of this demo, we lower the size of the population, the number of generations, and the number of samples taken in each sensitivity run."
   ]
  },
  {
   "cell_type": "code",
   "execution_count": null,
   "metadata": {},
   "outputs": [],
   "source": [
    "# Configured to perform a faster, but less elaborate, search\n",
    "optimiser.parameters[\"maxGenerations\"] = 5\n",
    "optimiser.parameters[\"populationSize\"] = 5\n",
    "analyser.parameters[\"numberOfSamples\"] = 10\n",
    "\n",
    "# Run the optimisation (including sensitivity analysis at each step)\n",
    "optimiser.run()"
   ]
  },
  {
   "cell_type": "markdown",
   "metadata": {},
   "source": [
    "Once the computation is complete, we can access the optimisation results as usual. Each individual in the final population will contain the variables specified for the optimiser."
   ]
  },
  {
   "cell_type": "code",
   "execution_count": null,
   "metadata": {},
   "outputs": [],
   "source": [
    "import matplotlib.pyplot as plt\n",
    "%matplotlib notebook\n",
    "\n",
    "best = optimiser.outputs['bestIndividuals'][0]\n",
    "# etc."
   ]
  }
 ],
 "metadata": {
  "kernelspec": {
   "display_name": "Python 3",
   "language": "python",
   "name": "python3"
  },
  "language_info": {
   "codemirror_mode": {
    "name": "ipython",
    "version": 3
   },
   "file_extension": ".py",
   "mimetype": "text/x-python",
   "name": "python",
   "nbconvert_exporter": "python",
   "pygments_lexer": "ipython3",
   "version": "3.5.0"
  }
 },
 "nbformat": 4,
 "nbformat_minor": 2
}
