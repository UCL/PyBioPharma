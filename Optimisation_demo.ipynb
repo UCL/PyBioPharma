{
 "cells": [
  {
   "cell_type": "markdown",
   "metadata": {},
   "source": [
    "# Demonstration of optimising a BioPharma model\n",
    "\n",
    "This notebook demonstrates how to use the BioPharma Python software to *optimise* models of biopharmaceutical facilities.\n",
    "\n",
    "To run everything, select 'Run All' from the Cell menu. If you have made changes to the model equations in the biopharma package, select 'Restart & Run All' from the Kernel menu to ensure your changes are loaded."
   ]
  },
  {
   "cell_type": "markdown",
   "metadata": {},
   "source": [
    "First we load the biopharma software and set up the facility we want to optimise. See the [introductory demo notebook](User_demo.ipynb) for more explanation about this section. As in that example, we load default parameters from the [data](./data) folder by specifying it as the `data_path` argument to `Facility`."
   ]
  },
  {
   "cell_type": "code",
   "execution_count": null,
   "metadata": {},
   "outputs": [],
   "source": [
    "import biopharma as bp\n",
    "\n",
    "facility = bp.Facility(data_path='data')\n",
    "\n",
    "# Define the steps needed to create our single product\n",
    "from biopharma.process_steps import (\n",
    "    \n",
    ")\n",
    "steps = [\n",
    "    \n",
    "]\n",
    "step_names = [step.name for step in steps]\n",
    "product = bp.Product(facility, steps)"
   ]
  },
  {
   "cell_type": "markdown",
   "metadata": {},
   "source": [
    "## Defining what to optimise\n",
    "<a id='optimisation_targets'></a>\n",
    "\n",
    "The next step is to create the Optimiser, and tell it both what facility parameters we want to vary (and how), and what objective(s) to optimise.\n",
    "\n",
    "Note that the order in which variables are added matters: choices made for earlier variables can constrain the options available for later ones, but not vice versa.\n",
    "\n",
    "Key parameters for the optimisation routine are loaded from file in the same way as default facility parameters. Unless a different filename is given when the Optimiser is created, the [Optimiser.yaml](data/Optimiser.yaml) file is used."
   ]
  },
  {
   "cell_type": "code",
   "execution_count": null,
   "metadata": {},
   "outputs": [],
   "source": [
    "from biopharma import optimisation as opt\n",
    "\n",
    "optimiser = opt.Optimiser(facility)\n",
    "\n",
    "# Specify the variables to optimise.\n",
    "optimiser.add_variable(gen=opt.gen.Binary(), component=opt.sel.step('test_step'), item='binary_param')\n",
    "optimiser.add_variable(gen=opt.gen.RangeGenerator(0, 10),\n",
    "                       component=opt.sel.step('test_step'), item='int_param')\n",
    "\n",
    "# Specify the objective(s)\n",
    "optimiser.add_objective(component=opt.sel.product(0), item='cogs', minimise=True)"
   ]
  },
  {
   "cell_type": "markdown",
   "metadata": {},
   "source": [
    "Now we can run the optimisation. Outputs will be stored in the optimiser's outputs dictionary.\n",
    "\n",
    "The commented-out lines (starting with a '# ') show how to override parameters defined in the [Optimiser.yaml](data/Optimiser.yaml) file."
   ]
  },
  {
   "cell_type": "code",
   "execution_count": null,
   "metadata": {},
   "outputs": [],
   "source": [
    "# optimiser.parameters['populationSize'] = 10\n",
    "# optimiser.parameters['maxGenerations'] = 10\n",
    "optimiser.run()"
   ]
  },
  {
   "cell_type": "code",
   "execution_count": null,
   "metadata": {},
   "outputs": [],
   "source": [
    "print('Best individual with fitness:')\n",
    "for ind in optimiser.outputs['bestIndividuals']:\n",
    "    print('{}: {}'.format(ind.fitness.values[0], ind))\n",
    "print('Fitnesses ({}) of final population:'.format(\n",
    "    ', '.join(map(str, [obj['item'] for obj in optimiser.objectives]))))\n",
    "for ind in optimiser.outputs['finalPopulation']:\n",
    "    print('   ', ind.fitness.values[0])"
   ]
  },
  {
   "cell_type": "markdown",
   "metadata": {},
   "source": [
    "## Reporting on the results"
   ]
  },
  {
   "cell_type": "code",
   "execution_count": null,
   "metadata": {},
   "outputs": [],
   "source": [
    "# Importing the libraries we need\n",
    "import pandas as pd\n",
    "import matplotlib.pyplot as plt\n",
    "%matplotlib notebook"
   ]
  },
  {
   "cell_type": "markdown",
   "metadata": {},
   "source": [
    "First we show a table of some parameters used by the best individual."
   ]
  },
  {
   "cell_type": "code",
   "execution_count": null,
   "metadata": {},
   "outputs": [],
   "source": [
    "best = optimiser.outputs['bestIndividuals'][0]\n",
    "labels = {'param1': {False: 'P1 not set', True: 'P1 set'},\n",
    "          'param2': {False: 'Here be dragons', True: 'All normal'}}\n",
    "column_info = pd.DataFrame(\n",
    "    {name: [labels[item][best.get_variable(name, item).value]\n",
    "            for item in ['param1', 'param2']]\n",
    "     for name in step_names},\n",
    "    index=['Param 1', 'Param 2'])\n",
    "column_info"
   ]
  },
  {
   "cell_type": "markdown",
   "metadata": {},
   "source": [
    "Next we display a graph showing non-categorical parameters."
   ]
  },
  {
   "cell_type": "code",
   "execution_count": null,
   "metadata": {
    "scrolled": false
   },
   "outputs": [],
   "source": [
    "best = optimiser.outputs['bestIndividuals'][0]\n",
    "\n",
    "fig, ax = plt.subplots()\n",
    "for name in step_names:\n",
    "    x = best.get_variable(name, 'p1').value\n",
    "    y = best.get_variable(name, 'p2').value\n",
    "    ax.scatter(x.magnitude, y.magnitude, s=40, label=name)\n",
    "ax.set_title('Two parameters')\n",
    "ax.set_xlabel('P1 ({})'.format(x.units))\n",
    "ax.set_ylabel('P2 ({})'.format(y.units))\n",
    "ax.legend()\n",
    "ax.grid(True)\n",
    "plt.show()"
   ]
  },
  {
   "cell_type": "markdown",
   "metadata": {},
   "source": [
    "Finally we show the cost breakdown into different categories for the best solution."
   ]
  },
  {
   "cell_type": "code",
   "execution_count": null,
   "metadata": {},
   "outputs": [],
   "source": [
    "best = optimiser.outputs['bestIndividuals'][0]\n",
    "\n",
    "# At present we need to re-run the model with the best individual to get at specific outputs\n",
    "best.apply_to_facility()\n",
    "facility.run()\n",
    "\n",
    "# Cost breakdown data\n",
    "y_units = bp.units.GBP / bp.units.g\n",
    "grams_produced = product.outputs['total_output'].to('g')\n",
    "labour_costs = product.outputs['labourCost'] / grams_produced / y_units\n",
    "consumables_costs = product.outputs['consumablesCost'] / grams_produced / y_units\n",
    "\n",
    "# Create plot\n",
    "fig, ax = plt.subplots()\n",
    "\n",
    "p_labour = ax.bar(0, labour_costs)\n",
    "p_consumables = ax.bar(0, consumables_costs, bottom=labour_costs)\n",
    "\n",
    "ax.set_title('Cost Breakdown')\n",
    "ax.set_ylabel('Cost of goods ({})'.format(y_units))\n",
    "ax.set_xticks([])\n",
    "ax.set_xbound(-2, 2)\n",
    "ax.legend((p_labour[0], p_consumables[0]),\n",
    "           ('Labour', 'Consumables'))\n",
    "plt.subplots_adjust(bottom=0.25)\n",
    "plt.show()"
   ]
  },
  {
   "cell_type": "markdown",
   "metadata": {},
   "source": [
    "It is also possible to retrieve more extended information about how the fitness or other variables of interest evolve across the population during the optimisation. For details about that, you can refer to the [dedicated demo](Tracking_demo.ipynb)."
   ]
  },
  {
   "cell_type": "markdown",
   "metadata": {},
   "source": [
    "<a id='replication'></a>\n",
    "## Replicating the analysis"
   ]
  },
  {
   "cell_type": "markdown",
   "metadata": {},
   "source": [
    "Optimisation using genetic algorithms is a random process, and as such will generally not produce identical results at each run. In some cases, it may be useful or required to reproduce the algorithm's results and intermediate steps. For these purposes, at the start of each optimisation run, the random state is recorded within the optimiser's outputs.  The optimiser can also be run from a given random state, allowing a user to reproduce all steps perfectly."
   ]
  },
  {
   "cell_type": "code",
   "execution_count": null,
   "metadata": {},
   "outputs": [],
   "source": [
    "original_results = optimiser.outputs['finalPopulation']\n",
    "# Retrieve the random state before the previous optimisation ran\n",
    "original_state = optimiser.outputs['seed']\n",
    "# Restore the optimiser to that state and rerun the analysis\n",
    "optimiser.set_seed(original_state)\n",
    "optimiser.run()\n",
    "new_results = optimiser.outputs['finalPopulation']"
   ]
  },
  {
   "cell_type": "markdown",
   "metadata": {},
   "source": [
    "Now we can confirm that the populations produced by the two runs are the same:"
   ]
  },
  {
   "cell_type": "code",
   "execution_count": null,
   "metadata": {},
   "outputs": [],
   "source": [
    "original_results == new_results"
   ]
  }
 ],
 "metadata": {
  "anaconda-cloud": {},
  "kernelspec": {
   "display_name": "Python 3",
   "language": "python",
   "name": "python3"
  },
  "language_info": {
   "codemirror_mode": {
    "name": "ipython",
    "version": 3
   },
   "file_extension": ".py",
   "mimetype": "text/x-python",
   "name": "python",
   "nbconvert_exporter": "python",
   "pygments_lexer": "ipython3",
   "version": "3.5.0"
  }
 },
 "nbformat": 4,
 "nbformat_minor": 2
}
