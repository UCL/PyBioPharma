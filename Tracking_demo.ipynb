{
 "cells": [
  {
   "cell_type": "markdown",
   "metadata": {},
   "source": [
    "# Demonstration of statistical tracking in BioPharma optimisation"
   ]
  },
  {
   "cell_type": "markdown",
   "metadata": {},
   "source": [
    "The basic [optimisation demo](Optimisation_demo.ipynb) showed how to find and visualise the best solution from among a population of parameter settings. This notebook demonstrates how to track and retrieve information about the evolution of the population as the optimisation runs. In particular, it addresses:\n",
    "- how to specify which parameters to track\n",
    "- what kind of information is available\n",
    "- how to visualise these results.\n",
    "\n",
    "We start by creating and running an optimiser, as in the basic demo. \n",
    "While adding a variable parameter, we can tell the optimiser to track its evolution during the optimisation by compiling appropriate statistics. There are two possible sets of statistics, for numerical and categorical (discrete) values, and we must specify which kind we want to use. In this example, we choose to track .... All other variables are not tracked by default."
   ]
  },
  {
   "cell_type": "code",
   "execution_count": null,
   "metadata": {},
   "outputs": [],
   "source": [
    "import biopharma as bp\n",
    "\n",
    "facility = bp.Facility(data_path='data')\n",
    "\n",
    "# Define the steps needed to create our single product\n",
    "from biopharma.process_steps import (\n",
    "    \n",
    ")\n",
    "steps = [\n",
    "    \n",
    "]\n",
    "product = bp.Product(facility, steps)"
   ]
  },
  {
   "cell_type": "code",
   "execution_count": null,
   "metadata": {},
   "outputs": [],
   "source": [
    "from biopharma import optimisation as opt\n",
    "\n",
    "optimiser = opt.Optimiser(facility)\n",
    "\n",
    "# Specify the variables to optimise.\n",
    "# Note the 'track=opt.Tracking.discrete' here, which says to track the singleUse parameter as a discrete variable,\n",
    "# counting the number of individuals within the population that have each value for this variable.\n",
    "optimiser.add_variable(gen=opt.gen.Binary(), component=opt.sel.step('test_step'), item='binary_param',\n",
    "                       track=opt.Tracking.discrete)\n",
    "# Numerical tracking is specified for the next variable, meaning statistics on its distribution across the\n",
    "# population will be computed.\n",
    "optimiser.add_variable(gen=opt.gen.RangeGenerator(0, 10),\n",
    "                       component=opt.sel.step('test_step'), item='int_param', track=opt.Tracking.numerical)\n",
    "\n",
    "# Specify the objective\n",
    "optimiser.add_objective(component=opt.sel.product(0), item='cogs', minimise=True)\n",
    "\n",
    "# Run the optimisation\n",
    "optimiser.run()"
   ]
  },
  {
   "cell_type": "markdown",
   "metadata": {},
   "source": [
    "## Reviewing statistics"
   ]
  },
  {
   "cell_type": "markdown",
   "metadata": {},
   "source": [
    "Beyond the data on the best solution, the optimiser can provide additional information on the solutions it considered at each generation, as well as how these evolved during the optimisation. This is accessible through its logbook, from which we can select the particular information we are interested in.\n",
    "\n",
    "We can start by inspecting how the fitness of the population changed across the generations. The logbook has information on the minimum, maximum, average and standard deviation of the fitness at each generation:"
   ]
  },
  {
   "cell_type": "code",
   "execution_count": null,
   "metadata": {},
   "outputs": [],
   "source": [
    "import pandas as pd\n",
    "\n",
    "col_names = [\"min\", \"max\", \"avg\", \"std\"]\n",
    "fit_df = pd.DataFrame({col: optimiser.logbook.chapters[\"fit\"].select(col) for col in col_names},\n",
    "                      index=optimiser.logbook.select(\"gen\"))\n",
    "fit_df.index.name = \"Generation\"\n",
    "fit_df"
   ]
  },
  {
   "cell_type": "markdown",
   "metadata": {},
   "source": [
    "The result for each generation and statistic is a list, because in general we could be optimising multiple objectives at the same time. Each element of this list corresponds to the fitness for a particular objective. Here, the lists have length 1, as we have provided a single objective."
   ]
  },
  {
   "cell_type": "code",
   "execution_count": null,
   "metadata": {},
   "outputs": [],
   "source": [
    "import numpy as np\n",
    "from bokeh.plotting import figure\n",
    "from bokeh.io import show, output_notebook\n",
    "output_notebook()\n",
    "\n",
    "gens = optimiser.logbook.select(\"gen\")\n",
    "fit_data = optimiser.logbook.chapters[\"fit\"]\n",
    "# The \"fit\" chapter has information on the fitness; we need to select the data related\n",
    "# to the objective we are interested in (in this case there is only one).\n",
    "# Using NumPy arrays in case data contains infinite values or NaNs, or Bokeh will complain\n",
    "fit_min = np.array([value[0] for value in fit_data.select(\"min\")])\n",
    "fit_max = np.array([value[0] for value in fit_data.select(\"max\")])\n",
    "fit_avg = np.array([value[0] for value in fit_data.select(\"avg\")])\n",
    "\n",
    "# Create plot\n",
    "p = figure(title='Population fitness')\n",
    "p.line(gens, fit_min, line_color='blue', legend='min')\n",
    "p.line(gens, fit_max, line_color='red', legend='max')\n",
    "p.line(gens, fit_avg, line_color='green', legend='avg')\n",
    "p.xaxis.axis_label = 'Generation'\n",
    "p.yaxis.axis_label = 'Fitness'\n",
    "p.title.text_font_size = '11pt'\n",
    "show(p)"
   ]
  },
  {
   "cell_type": "markdown",
   "metadata": {},
   "source": [
    "Note that sometimes the fitness value is infinite, in which case it will not be shown in the plot!"
   ]
  },
  {
   "cell_type": "markdown",
   "metadata": {},
   "source": [
    "We can also plot the standard deviation of the fitness, to show whether the fitness values converge as the optimisation continues."
   ]
  },
  {
   "cell_type": "code",
   "execution_count": null,
   "metadata": {},
   "outputs": [],
   "source": [
    "import numpy as np\n",
    "\n",
    "fit_std = np.array([value[0] for value in fit_data.select(\"std\")])\n",
    "\n",
    "p = figure(title='Population fitness (mean +/- 1 std)')\n",
    "p.line(gens, fit_avg)\n",
    "p.line(gens, fit_avg + fit_std, line_dash='dashed')\n",
    "p.line(gens, fit_avg - fit_std, line_dash='dashed')\n",
    "p.xaxis.axis_label = 'Generation'\n",
    "p.yaxis.axis_label = 'Fitness'\n",
    "p.title.text_font_size = '11pt'\n",
    "show(p)"
   ]
  },
  {
   "cell_type": "markdown",
   "metadata": {},
   "source": [
    "In addition to the fitness, we can retrieve information on any of the parameters we asked the optimiser to track. The full list of tracked quantities is available in the logbook's chapters:"
   ]
  },
  {
   "cell_type": "code",
   "execution_count": null,
   "metadata": {},
   "outputs": [],
   "source": [
    "for parameter in optimiser.logbook.chapters:\n",
    "    print(parameter)"
   ]
  },
  {
   "cell_type": "markdown",
   "metadata": {},
   "source": [
    "For numerical parameters (specified with `track=opt.Tracking.numerical` when adding them to the optimiser), the same measures (minimum, maximum, average and standard deviation) are available:"
   ]
  },
  {
   "cell_type": "code",
   "execution_count": null,
   "metadata": {},
   "outputs": [],
   "source": [
    "gens = optimiser.logbook.select(\"gen\")\n",
    "diam_data = optimiser.logbook.chapters[\"test_step[int_param]\"]\n",
    "# Strip the units off the result, to plot only the magnitudes\n",
    "diam_min = [value.magnitude for value in diam_data.select(\"min\")]\n",
    "diam_max = [value.magnitude for value in diam_data.select(\"max\")]\n",
    "diam_avg = [value.magnitude for value in diam_data.select(\"avg\")]\n",
    "unit = optimiser.logbook.chapters[\"test_step[int_param]\"].select(\"min\")[0].units\n",
    "\n",
    "p = figure(title='Evolution of parameter in test step')\n",
    "p.line(gens, diam_min, line_color='blue', legend='min')\n",
    "p.line(gens, diam_max, line_color='red', legend='max')\n",
    "p.line(gens, diam_avg, line_color='green', legend='avg')\n",
    "p.xaxis.axis_label = 'Generation'\n",
    "p.yaxis.axis_label = 'Parameter ({})'.format(unit)\n",
    "p.title.text_font_size = '11pt'\n",
    "show(p)"
   ]
  },
  {
   "cell_type": "markdown",
   "metadata": {},
   "source": [
    "For categorical parameters (`track=opt.Tracking.discrete`), instead, we can see how often each value appears. This is stored as the `count` measure."
   ]
  },
  {
   "cell_type": "code",
   "execution_count": null,
   "metadata": {},
   "outputs": [],
   "source": [
    "# Apparently, the high-level bokeh.charts is no longer maintained\n",
    "# and has been replaced by HoloViews. We could look at including that,\n",
    "# but we can still do something simpler with Bokeh.\n",
    "from bokeh.models import ColumnDataSource\n",
    "from bokeh.models.tickers import FixedTicker\n",
    "from bokeh.palettes import viridis\n",
    "from bokeh.core.properties import value\n",
    "\n",
    "# For technical reasons, the result for each generation is a list,\n",
    "# and the actual data is contained in its first and only element.\n",
    "use_data = [result['count'][0] for result in optimiser.logbook.chapters[\"test_step[binary_param]\"]]\n",
    "all_options = set()\n",
    "for result in use_data:\n",
    "    all_options.update(result.keys())\n",
    "all_options = list(all_options)\n",
    "\n",
    "# Put the results in a connvenient format for plotting\n",
    "compiled_data = {str(option): [result.get(option, 0) for result in use_data] for option in all_options}\n",
    "all_options_str = list(compiled_data.keys())\n",
    "xlabel = 'Generation'\n",
    "compiled_data[xlabel] = gens\n",
    "source = ColumnDataSource(compiled_data)\n",
    "colours = viridis(len(all_options_str))\n",
    "\n",
    "p = figure()\n",
    "p.vbar_stack(all_options_str, x=xlabel, source=source,\n",
    "             width=0.7, color=colours, legend=[value(opt) for opt in all_options_str])\n",
    "\n",
    "# Make the plot look a little nicer\n",
    "p.xaxis.axis_label = xlabel\n",
    "p.xaxis.ticker = FixedTicker(ticks=gens)\n",
    "p.yaxis.axis_label = 'Number of individuals'\n",
    "p.title.text = 'Distribution of characteristic \"test_step[binary_param]\"'\n",
    "p.title.text_font_size = '11pt'\n",
    "show(p)"
   ]
  }
 ],
 "metadata": {
  "anaconda-cloud": {},
  "kernelspec": {
   "display_name": "Python 3",
   "language": "python",
   "name": "python3"
  },
  "language_info": {
   "codemirror_mode": {
    "name": "ipython",
    "version": 3
   },
   "file_extension": ".py",
   "mimetype": "text/x-python",
   "name": "python",
   "nbconvert_exporter": "python",
   "pygments_lexer": "ipython3",
   "version": "3.5.0"
  }
 },
 "nbformat": 4,
 "nbformat_minor": 2
}
