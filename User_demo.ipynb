{
 "cells": [
  {
   "cell_type": "markdown",
   "metadata": {},
   "source": [
    "# BioPharma user demo\n",
    "\n",
    "This notebook demonstrates how to use the BioPharma Python software to set up and run models of biopharmaceutical facilities.\n",
    "\n",
    "To run everything, select 'Run All' from the Cell menu. To run a single cell, click within it then either press Control+Return together, or select 'Run Cells' from the Cell menu.\n",
    "\n",
    "If you have made changes to the model equations in the biopharma package, select 'Restart & Run All' from the Kernel menu to ensure your changes are loaded.\n",
    "\n",
    "If you wish to make a copy of this notebook for your own work, you can select 'Make a Copy...' from the File menu."
   ]
  },
  {
   "cell_type": "markdown",
   "metadata": {},
   "source": [
    "First we load the biopharma software."
   ]
  },
  {
   "cell_type": "code",
   "execution_count": null,
   "metadata": {},
   "outputs": [],
   "source": [
    "import biopharma as bp"
   ]
  },
  {
   "cell_type": "markdown",
   "metadata": {},
   "source": [
    "Then we set up the facility to model. This requires defining also the product(s) to be produced, and the steps required to produce each product.\n",
    "\n",
    "The parameters for all these aspects of the model are loaded from files in the [data](./data) folder. Each model component (Facility, Product, each process step) has a corresponding .yaml file giving the parameters for that component. Some of these also reference tabular data stored in .csv files."
   ]
  },
  {
   "cell_type": "code",
   "execution_count": null,
   "metadata": {},
   "outputs": [],
   "source": [
    "facility = bp.Facility(data_path='data')\n",
    "\n",
    "# Define the steps needed to create our single product\n",
    "from biopharma.process_steps import (\n",
    "    \n",
    ")\n",
    "steps = [\n",
    "]\n",
    "product = bp.Product(facility, steps)\n",
    "\n",
    "# Load all model parameters from file\n",
    "facility.load_parameters()"
   ]
  },
  {
   "cell_type": "markdown",
   "metadata": {},
   "source": [
    "We are now in a position to run the model and examine the outputs.\n",
    "\n",
    "To modify the details of the steps (e.g. change equations) edit the files in [biopharma/process_steps](./biopharma/process_steps) and select 'Restart & Run All' from the 'Kernel' menu. If you only want to change step parameters or inputs, edit the files in [data](./data) and just re-run all cells."
   ]
  },
  {
   "cell_type": "code",
   "execution_count": null,
   "metadata": {},
   "outputs": [],
   "source": [
    "facility.run()\n",
    "\n",
    "print('Overall facility outputs:')\n",
    "for output_name in sorted(facility.outputs.keys()):\n",
    "    value = facility.outputs[output_name]\n",
    "    print('  Output {} = {}'.format(output_name, value))\n",
    "print()\n",
    "print('Product outputs:')\n",
    "for output_name in sorted(product.outputs.keys()):\n",
    "    value = product.outputs[output_name]\n",
    "    print('  Output {} = {}'.format(output_name, value))\n",
    "print()\n",
    "print('Process sequence outputs:')\n",
    "for output_name in sorted(product.sequence.outputs.keys()):\n",
    "    value = product.sequence.outputs[output_name]\n",
    "    print('  Output {} = {}'.format(output_name, value))"
   ]
  },
  {
   "cell_type": "markdown",
   "metadata": {},
   "source": [
    "It is also possible to write outputs to disk, either in a YAML file (which will contain all quantities output by every model component) or, with some extra coding to define the table, as a CSV file. This uses functionality from the [Pandas](http://pandas.pydata.org/) Python data analysis library (which is also used for reading the CSV parameter files).\n",
    "\n",
    "The first cell below will write outputs to the file [data/saved_outputs.yaml](data/saved_outputs.yaml).\n",
    "The second cell writes to [data/saved_step_info.csv](data/saved_step_info.csv) as well as displaying on screen."
   ]
  },
  {
   "cell_type": "code",
   "execution_count": null,
   "metadata": {},
   "outputs": [],
   "source": [
    "# Save all outputs to disk in the 'data' folder\n",
    "facility.save_outputs('saved_outputs.yaml')"
   ]
  },
  {
   "cell_type": "code",
   "execution_count": null,
   "metadata": {},
   "outputs": [],
   "source": [
    "# Define a table of information about the unit operations\n",
    "import pandas as pd\n",
    "import os\n",
    "step_info = pd.DataFrame(\n",
    "    {'Name': [step.name for step in steps],\n",
    "     'Yield (%)': [step.parameters['effectiveYield'].magnitude for step in steps],\n",
    "     'Mass In (g)': [step.inputs['mass'].magnitude for step in steps],\n",
    "     'Mass Out (g)': [step.outputs['mass'].magnitude for step in steps],\n",
    "     'Volume In (L)': [step.inputs['volume'].magnitude for step in steps],\n",
    "     'Volume Out (L)': [step.outputs['volume'].magnitude for step in steps],\n",
    "    },\n",
    "    columns=('Name', 'Yield (%)', 'Mass In (g)', 'Mass Out (g)', 'Volume In (L)', 'Volume Out (L)'),\n",
    "    index=pd.Index(range(1, len(steps)+1), name='Step'))\n",
    "step_info.T.to_csv(os.path.join(facility.data_path, 'saved_step_info.csv'), index_label='Step')\n",
    "step_info"
   ]
  },
  {
   "cell_type": "markdown",
   "metadata": {},
   "source": [
    "## Analysing outputs\n",
    "\n",
    "Having run the model, we then have the full power of Python available to analyse the results. In this section I show how to calculate some simple summaries of the process steps. For more about how to work with Numpy arrays see the [Numpy website](http://www.numpy.org/).\n",
    "\n",
    "The `ProcessSequence` class has two helper methods for extracting per-step data:\n",
    "* `step_outputs` gives the value of a single output for all steps. This is used in plotting below.\n",
    "* `step_increments` gives the change in a particular input/output for all steps. This is used here."
   ]
  },
  {
   "cell_type": "code",
   "execution_count": null,
   "metadata": {},
   "outputs": [],
   "source": [
    "# For getting data on the steps it's convenient to be able to refer to the sequence directly.\n",
    "sequence = product.sequence"
   ]
  },
  {
   "cell_type": "code",
   "execution_count": null,
   "metadata": {},
   "outputs": [],
   "source": [
    "water_per_step = sequence.step_increments('water')\n",
    "print('Average water use: {}'.format(water_per_step.mean().to('L')))\n",
    "\n",
    "max_index = water_per_step.argmax()\n",
    "max_value = water_per_step[max_index].to('L')\n",
    "max_step = sequence.steps[max_index].name\n",
    "print('Maximum water use: {} at step {}'.format(max_value, max_step))"
   ]
  },
  {
   "cell_type": "markdown",
   "metadata": {},
   "source": [
    "## Graphical output display\n",
    "\n",
    "Below I demonstrate how to create different kinds of charts summarising the outputs:\n",
    "1. Bar chart showing breakdown of costs (COG/g) per unit operation per cost category.\n",
    "2. Bar chart giving Time per unit operation\n",
    "3. Line chart giving Mass per unit operation"
   ]
  },
  {
   "cell_type": "code",
   "execution_count": null,
   "metadata": {},
   "outputs": [],
   "source": [
    "# Set up plotting library\n",
    "import operator\n",
    "import numpy as np\n",
    "import matplotlib.pyplot as plt\n",
    "%matplotlib notebook"
   ]
  },
  {
   "cell_type": "code",
   "execution_count": null,
   "metadata": {},
   "outputs": [],
   "source": [
    "# Cost breakdown data\n",
    "y_units = 1000 * bp.units.GBP\n",
    "labour_costs = sequence.step_increments('labourCost') / y_units\n",
    "materials_costs = sequence.step_increments('rawMaterialsCost') / y_units\n",
    "equipment_costs = sequence.step_increments('equipmentCost') / y_units\n",
    "\n",
    "plt.figure()\n",
    "ind = range(len(sequence.steps))  # The x locations for the bars\n",
    "p_labour = plt.bar(ind, labour_costs)\n",
    "p_materials = plt.bar(ind, materials_costs, bottom=labour_costs)\n",
    "p_equipment = plt.bar(ind, equipment_costs, bottom=labour_costs + materials_costs)\n",
    "\n",
    "plt.title('Cost breakdown for unit operations')\n",
    "plt.ylabel('Costs per batch ({})'.format(y_units))\n",
    "plt.xticks(ind, [step.name for step in sequence.steps], rotation=40, ha='right', fontsize=8)\n",
    "plt.legend((p_labour[0], p_materials[0], p_equipment[0]),\n",
    "           ('Labour', 'Materials', 'Equipment'))\n",
    "plt.subplots_adjust(bottom=0.25)\n",
    "plt.show()"
   ]
  },
  {
   "cell_type": "code",
   "execution_count": null,
   "metadata": {},
   "outputs": [],
   "source": [
    "# Time breakdown data\n",
    "# This one is more complicated because 3 different fields are used to track time taken!\n",
    "cat1_time = sequence.step_increments('cat 1 time') / bp.units.day\n",
    "cat2_time = (sequence.step_increments('cat 2a time') + sequence.step_increments('cat 2b time')) / bp.units.day\n",
    "\n",
    "plt.figure()\n",
    "ind = range(len(sequence.steps))  # The x locations for the bars\n",
    "p_cat1_time = plt.bar(ind, cat1_time)\n",
    "p_cat2_time = plt.bar(ind, cat2_time, bottom=cat1_time)\n",
    "\n",
    "plt.title('Time breakdown for unit operations')\n",
    "plt.ylabel('Time per batch (days)')\n",
    "plt.xticks(ind, [step.name for step in sequence.steps], rotation=40, ha='right', fontsize=8)\n",
    "plt.legend((p_cat1_time[0], p_cat2_time[0]), ('USP', 'DSP'))\n",
    "plt.subplots_adjust(bottom=0.25)\n",
    "plt.show()"
   ]
  },
  {
   "cell_type": "code",
   "execution_count": null,
   "metadata": {},
   "outputs": [],
   "source": [
    "# Mass breakdown data\n",
    "mass_per_step = sequence.step_outputs('mass') / bp.units.g\n",
    "\n",
    "plt.figure()\n",
    "ind = range(len(sequence.steps))  # The x locations for the points\n",
    "plt.plot(ind, mass_per_step)\n",
    "\n",
    "plt.title('Mass breakdown for unit operations')\n",
    "plt.ylabel('Mass remaining after step (g)')\n",
    "plt.xticks(ind, [step.name for step in sequence.steps], rotation=40, ha='right', fontsize=8)\n",
    "plt.subplots_adjust(bottom=0.25)\n",
    "plt.show()"
   ]
  }
 ],
 "metadata": {
  "kernelspec": {
   "display_name": "Python 3",
   "language": "python",
   "name": "python3"
  },
  "language_info": {
   "codemirror_mode": {
    "name": "ipython",
    "version": 3
   },
   "file_extension": ".py",
   "mimetype": "text/x-python",
   "name": "python",
   "nbconvert_exporter": "python",
   "pygments_lexer": "ipython3",
   "version": "3.5.0"
  }
 },
 "nbformat": 4,
 "nbformat_minor": 2
}
